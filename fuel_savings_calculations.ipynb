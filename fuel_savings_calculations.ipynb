{
 "cells": [
  {
   "cell_type": "code",
   "execution_count": 1,
   "id": "d299b838",
   "metadata": {},
   "outputs": [],
   "source": [
    "import pandas as pd\n",
    "import numpy as np\n",
    "import scipy as sp\n",
    "import matplotlib as plt\n",
    "import math\n",
    "import itertools\n",
    "import statsmodels.api as sm"
   ]
  },
  {
   "cell_type": "code",
   "execution_count": 2,
   "id": "9c89161c",
   "metadata": {},
   "outputs": [],
   "source": [
    "# Function that calculates the distnce between two points in km, using geocoordinates.\n",
    "def euc_distance(lat1, lon1, lat2, lon2):\n",
    "    p = math.pi/180\n",
    "    a = 0.5 - math.cos((lat2-lat1)*p)/2 + math.cos(lat1*p) * math.cos(lat2*p) * (1-math.cos((lon2-lon1)*p))/2\n",
    "    d = 12742 * math.asin(math.sqrt(a))\n",
    "    return  d"
   ]
  },
  {
   "cell_type": "code",
   "execution_count": 10,
   "id": "4cd0ad8f",
   "metadata": {},
   "outputs": [],
   "source": [
    "#Function that calculates the potential savings of driving to a diferent gas station. \n",
    "#Calculates the savings for all gas stations within the specified radius.\n",
    "def get_savings(stations,reference_distance,mileage,liters,fuel_type):\n",
    "    total_savings = []\n",
    "    j = 1\n",
    "    for i in range(len(stations)):\n",
    "        for j in range(i+1,len(stations)):\n",
    "            distance = euc_distance(stations.iloc[i,4],stations.iloc[i,3],\n",
    "                                     stations.iloc[j,4],stations.iloc[i,3])\n",
    "            if distance <= reference_distance and stations.iloc[j][fuel_type]<stations.iloc[i][fuel_type]:\n",
    "                price_difference = stations.iloc[i][fuel_type] - stations.iloc[j][fuel_type]\n",
    "                savings = price_difference * liters - (2*(stations.iloc[j][fuel_type]*distance/mileage))\n",
    "                total_savings.append({'gas_1': stations.iloc[i][\"place_id\"],\n",
    "                                      'price_1': stations.iloc[i][fuel_type],                                      \n",
    "                                      'gas_2': stations.iloc[j][\"place_id\"],\n",
    "                                      'price_2': stations.iloc[j][fuel_type],\n",
    "                                      'distance': distance,\n",
    "                                      'savings': savings,})\n",
    "            else:\n",
    "                pass\n",
    "    return total_savings"
   ]
  },
  {
   "cell_type": "code",
   "execution_count": 4,
   "id": "1fc58a3e",
   "metadata": {},
   "outputs": [],
   "source": [
    "#Import gas prices\n",
    "gas_stations = pd.read_excel('prices_cdmx.xlsx', index_col=0)"
   ]
  },
  {
   "cell_type": "code",
   "execution_count": 5,
   "id": "17785e98",
   "metadata": {
    "scrolled": false
   },
   "outputs": [
    {
     "data": {
      "text/html": [
       "<div>\n",
       "<style scoped>\n",
       "    .dataframe tbody tr th:only-of-type {\n",
       "        vertical-align: middle;\n",
       "    }\n",
       "\n",
       "    .dataframe tbody tr th {\n",
       "        vertical-align: top;\n",
       "    }\n",
       "\n",
       "    .dataframe thead th {\n",
       "        text-align: right;\n",
       "    }\n",
       "</style>\n",
       "<table border=\"1\" class=\"dataframe\">\n",
       "  <thead>\n",
       "    <tr style=\"text-align: right;\">\n",
       "      <th></th>\n",
       "      <th>place_id</th>\n",
       "      <th>name</th>\n",
       "      <th>cre_id</th>\n",
       "      <th>Longitud</th>\n",
       "      <th>Latitud</th>\n",
       "      <th>regular</th>\n",
       "      <th>premium</th>\n",
       "      <th>State</th>\n",
       "    </tr>\n",
       "  </thead>\n",
       "  <tbody>\n",
       "    <tr>\n",
       "      <th>32</th>\n",
       "      <td>2071</td>\n",
       "      <td>Gasomac, S.A. de C.V.</td>\n",
       "      <td>PL/650/EXP/ES/2015</td>\n",
       "      <td>-99.13844</td>\n",
       "      <td>19.32310</td>\n",
       "      <td>20.99</td>\n",
       "      <td>23.59</td>\n",
       "      <td>Distrito Federal</td>\n",
       "    </tr>\n",
       "    <tr>\n",
       "      <th>33</th>\n",
       "      <td>2072</td>\n",
       "      <td>Autoconsumo los Pinos, S.A. de C.V.</td>\n",
       "      <td>PL/866/EXP/ES/2015</td>\n",
       "      <td>-99.16505</td>\n",
       "      <td>19.30205</td>\n",
       "      <td>20.79</td>\n",
       "      <td>22.49</td>\n",
       "      <td>Distrito Federal</td>\n",
       "    </tr>\n",
       "    <tr>\n",
       "      <th>114</th>\n",
       "      <td>2153</td>\n",
       "      <td>Inmobiliaria RAVS, S.A. de C.V.</td>\n",
       "      <td>PL/695/EXP/ES/2015</td>\n",
       "      <td>-99.08196</td>\n",
       "      <td>19.37504</td>\n",
       "      <td>21.19</td>\n",
       "      <td>22.99</td>\n",
       "      <td>Distrito Federal</td>\n",
       "    </tr>\n",
       "    <tr>\n",
       "      <th>118</th>\n",
       "      <td>2157</td>\n",
       "      <td>Gasolinería México - Ajusco 1, S.A. de C.V.</td>\n",
       "      <td>PL/821/EXP/ES/2015</td>\n",
       "      <td>-99.19692</td>\n",
       "      <td>19.22890</td>\n",
       "      <td>20.19</td>\n",
       "      <td>21.99</td>\n",
       "      <td>Distrito Federal</td>\n",
       "    </tr>\n",
       "    <tr>\n",
       "      <th>228</th>\n",
       "      <td>2267</td>\n",
       "      <td>PETROMAX, S.A. DE C.V.</td>\n",
       "      <td>PL/537/EXP/ES/2015</td>\n",
       "      <td>-99.10912</td>\n",
       "      <td>19.47922</td>\n",
       "      <td>20.99</td>\n",
       "      <td>22.99</td>\n",
       "      <td>Distrito Federal</td>\n",
       "    </tr>\n",
       "  </tbody>\n",
       "</table>\n",
       "</div>"
      ],
      "text/plain": [
       "     place_id                                         name  \\\n",
       "32       2071                        Gasomac, S.A. de C.V.   \n",
       "33       2072          Autoconsumo los Pinos, S.A. de C.V.   \n",
       "114      2153              Inmobiliaria RAVS, S.A. de C.V.   \n",
       "118      2157  Gasolinería México - Ajusco 1, S.A. de C.V.   \n",
       "228      2267                       PETROMAX, S.A. DE C.V.   \n",
       "\n",
       "                 cre_id  Longitud   Latitud  regular  premium  \\\n",
       "32   PL/650/EXP/ES/2015 -99.13844  19.32310    20.99    23.59   \n",
       "33   PL/866/EXP/ES/2015 -99.16505  19.30205    20.79    22.49   \n",
       "114  PL/695/EXP/ES/2015 -99.08196  19.37504    21.19    22.99   \n",
       "118  PL/821/EXP/ES/2015 -99.19692  19.22890    20.19    21.99   \n",
       "228  PL/537/EXP/ES/2015 -99.10912  19.47922    20.99    22.99   \n",
       "\n",
       "                State  \n",
       "32   Distrito Federal  \n",
       "33   Distrito Federal  \n",
       "114  Distrito Federal  \n",
       "118  Distrito Federal  \n",
       "228  Distrito Federal  "
      ]
     },
     "execution_count": 5,
     "metadata": {},
     "output_type": "execute_result"
    }
   ],
   "source": [
    "gas_stations.head()"
   ]
  },
  {
   "cell_type": "code",
   "execution_count": 12,
   "id": "bc06c0e7",
   "metadata": {},
   "outputs": [],
   "source": [
    "#This codes runs the \"get_savings\" function for all gas stations in a radius between 4km and 10km. Only the gas stations\n",
    "#changes that resulted in net savings will be added to the results dataframe. This function assumes the car has a mileage of\n",
    "#14 km per liter and it is fueling 40 liters.\n",
    "results = []\n",
    "for radious in np.arange(4.0,10.0,.1):\n",
    "    total_savings = get_savings(gas_stations,radious,14,40,\"regular\")\n",
    "    savings_df = pd.DataFrame(total_savings)\n",
    "    successes = savings_df[savings_df['savings'] > 0].sort_values('savings',ascending=True)\n",
    "    number_successes = len(successes)\n",
    "    successes_perc = number_successes/len(savings_df)\n",
    "    percentil_2 = savings_df['savings'].quantile(0.025)\n",
    "    percentil_97 = savings_df['savings'].quantile(0.975)\n",
    "    savings_analysis = {'radio': radious, 'number_experiments': len(savings_df), 'successes': number_successes,\n",
    "                        'successes_perc': successes_perc, 'percentil_2.5': percentil_2, 'percentil_97.5': percentil_97,\n",
    "                       'average_savings': savings_df['savings'].mean()}\n",
    "    results.append(savings_analysis)    "
   ]
  },
  {
   "cell_type": "code",
   "execution_count": 14,
   "id": "5fb8b143",
   "metadata": {},
   "outputs": [],
   "source": [
    "results_df = pd.DataFrame(results)"
   ]
  },
  {
   "cell_type": "code",
   "execution_count": 15,
   "id": "898d8a38",
   "metadata": {
    "scrolled": true
   },
   "outputs": [
    {
     "data": {
      "text/html": [
       "<div>\n",
       "<style scoped>\n",
       "    .dataframe tbody tr th:only-of-type {\n",
       "        vertical-align: middle;\n",
       "    }\n",
       "\n",
       "    .dataframe tbody tr th {\n",
       "        vertical-align: top;\n",
       "    }\n",
       "\n",
       "    .dataframe thead th {\n",
       "        text-align: right;\n",
       "    }\n",
       "</style>\n",
       "<table border=\"1\" class=\"dataframe\">\n",
       "  <thead>\n",
       "    <tr style=\"text-align: right;\">\n",
       "      <th></th>\n",
       "      <th>radio</th>\n",
       "      <th>number_experiments</th>\n",
       "      <th>successes</th>\n",
       "      <th>successes_perc</th>\n",
       "      <th>percentil_2.5</th>\n",
       "      <th>percentil_97.5</th>\n",
       "      <th>average_savings</th>\n",
       "    </tr>\n",
       "  </thead>\n",
       "  <tbody>\n",
       "    <tr>\n",
       "      <th>0</th>\n",
       "      <td>4.0</td>\n",
       "      <td>8630</td>\n",
       "      <td>7718</td>\n",
       "      <td>0.894322</td>\n",
       "      <td>-5.442652</td>\n",
       "      <td>71.787565</td>\n",
       "      <td>23.986252</td>\n",
       "    </tr>\n",
       "    <tr>\n",
       "      <th>1</th>\n",
       "      <td>4.1</td>\n",
       "      <td>8825</td>\n",
       "      <td>7871</td>\n",
       "      <td>0.891898</td>\n",
       "      <td>-5.702559</td>\n",
       "      <td>71.555979</td>\n",
       "      <td>23.897411</td>\n",
       "    </tr>\n",
       "    <tr>\n",
       "      <th>2</th>\n",
       "      <td>4.2</td>\n",
       "      <td>9048</td>\n",
       "      <td>8039</td>\n",
       "      <td>0.888484</td>\n",
       "      <td>-6.030789</td>\n",
       "      <td>71.348514</td>\n",
       "      <td>23.786538</td>\n",
       "    </tr>\n",
       "    <tr>\n",
       "      <th>3</th>\n",
       "      <td>4.3</td>\n",
       "      <td>9264</td>\n",
       "      <td>8201</td>\n",
       "      <td>0.885255</td>\n",
       "      <td>-6.171710</td>\n",
       "      <td>71.559110</td>\n",
       "      <td>23.755691</td>\n",
       "    </tr>\n",
       "    <tr>\n",
       "      <th>4</th>\n",
       "      <td>4.4</td>\n",
       "      <td>9465</td>\n",
       "      <td>8356</td>\n",
       "      <td>0.882831</td>\n",
       "      <td>-6.334657</td>\n",
       "      <td>71.545384</td>\n",
       "      <td>23.766880</td>\n",
       "    </tr>\n",
       "  </tbody>\n",
       "</table>\n",
       "</div>"
      ],
      "text/plain": [
       "   radio  number_experiments  successes  successes_perc  percentil_2.5  \\\n",
       "0    4.0                8630       7718        0.894322      -5.442652   \n",
       "1    4.1                8825       7871        0.891898      -5.702559   \n",
       "2    4.2                9048       8039        0.888484      -6.030789   \n",
       "3    4.3                9264       8201        0.885255      -6.171710   \n",
       "4    4.4                9465       8356        0.882831      -6.334657   \n",
       "\n",
       "   percentil_97.5  average_savings  \n",
       "0       71.787565        23.986252  \n",
       "1       71.555979        23.897411  \n",
       "2       71.348514        23.786538  \n",
       "3       71.559110        23.755691  \n",
       "4       71.545384        23.766880  "
      ]
     },
     "execution_count": 15,
     "metadata": {},
     "output_type": "execute_result"
    }
   ],
   "source": [
    "results_df.head()"
   ]
  },
  {
   "cell_type": "code",
   "execution_count": 19,
   "id": "07aa2b94",
   "metadata": {
    "scrolled": true
   },
   "outputs": [
    {
     "ename": "TypeError",
     "evalue": "list indices must be integers or slices, not str",
     "output_type": "error",
     "traceback": [
      "\u001b[1;31m---------------------------------------------------------------------------\u001b[0m",
      "\u001b[1;31mTypeError\u001b[0m                                 Traceback (most recent call last)",
      "\u001b[1;32m<ipython-input-19-62dc9045dd9a>\u001b[0m in \u001b[0;36m<module>\u001b[1;34m\u001b[0m\n\u001b[1;32m----> 1\u001b[1;33m \u001b[0mtotal_savings\u001b[0m\u001b[1;33m[\u001b[0m\u001b[1;34m'savings'\u001b[0m\u001b[1;33m]\u001b[0m\u001b[1;33m.\u001b[0m\u001b[0mhist\u001b[0m\u001b[1;33m(\u001b[0m\u001b[0mbins\u001b[0m\u001b[1;33m=\u001b[0m\u001b[1;36m100\u001b[0m\u001b[1;33m)\u001b[0m\u001b[1;33m\u001b[0m\u001b[1;33m\u001b[0m\u001b[0m\n\u001b[0m",
      "\u001b[1;31mTypeError\u001b[0m: list indices must be integers or slices, not str"
     ]
    }
   ],
   "source": [
    "total_savings['savings'].hist(bins=100)"
   ]
  },
  {
   "cell_type": "code",
   "execution_count": 170,
   "id": "96bbee8a",
   "metadata": {},
   "outputs": [],
   "source": [
    "#exporting results to excel\n",
    "compilacion_resultados_df.to_excel('compilacion_experimentos_gasolina_2.xlsx')"
   ]
  },
  {
   "cell_type": "code",
   "execution_count": 144,
   "id": "724a902b",
   "metadata": {},
   "outputs": [],
   "source": [
    "#Use the get_savings function, using \n",
    "total_savings = get_savings(gas_stations,3,15,40,\"regular\")"
   ]
  },
  {
   "cell_type": "code",
   "execution_count": 70,
   "id": "8345fa08",
   "metadata": {},
   "outputs": [],
   "source": [
    "total_savings_df = pd.DataFrame(total_savings)"
   ]
  }
 ],
 "metadata": {
  "kernelspec": {
   "display_name": "Python 3",
   "language": "python",
   "name": "python3"
  },
  "language_info": {
   "codemirror_mode": {
    "name": "ipython",
    "version": 3
   },
   "file_extension": ".py",
   "mimetype": "text/x-python",
   "name": "python",
   "nbconvert_exporter": "python",
   "pygments_lexer": "ipython3",
   "version": "3.9.5"
  }
 },
 "nbformat": 4,
 "nbformat_minor": 5
}
