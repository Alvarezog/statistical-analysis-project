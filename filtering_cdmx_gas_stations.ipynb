{
 "cells": [
  {
   "cell_type": "code",
   "execution_count": null,
   "id": "a00d4129",
   "metadata": {},
   "outputs": [],
   "source": [
    "#This notebook filters all the gas stations located inside Mexico City using an \n",
    "# shp. file and gas prices provided by the CRE."
   ]
  },
  {
   "cell_type": "code",
   "execution_count": 2,
   "id": "30934d18",
   "metadata": {},
   "outputs": [],
   "source": [
    "import pandas as pd\n",
    "import numpy as np\n",
    "import geopandas as gpd\n",
    "import matplotlib.pyplot as plt\n",
    "import earthpy as et\n",
    "from shapely.geometry import Point, Polygon"
   ]
  },
  {
   "cell_type": "code",
   "execution_count": 3,
   "id": "23f4bd66",
   "metadata": {},
   "outputs": [],
   "source": [
    "def obten_gasolineras(poligono,gasolineras):\n",
    "    gasolineras_dentro_poligono = []\n",
    "    for i in range(len(gasolineras)):\n",
    "        punto = Point(gasolineras.loc[i,\"Longitud\"],gasolineras.loc[i,\"Latitud\"])\n",
    "        if punto.within(poligono) == True:\n",
    "            gasolineras_dentro_poligono.append(gasolineras.iloc[i])\n",
    "    \n",
    "    return gasolineras_dentro_poligono"
   ]
  },
  {
   "cell_type": "code",
   "execution_count": 6,
   "id": "c8ec6280",
   "metadata": {},
   "outputs": [],
   "source": [
    "mapa = gpd.read_file('México_Estados.shp')\n",
    "gasolineras = pd.read_excel('precios_por_estacion.xlsx')"
   ]
  },
  {
   "cell_type": "code",
   "execution_count": 33,
   "id": "e788f9ac",
   "metadata": {},
   "outputs": [],
   "source": [
    "precios_mexico = pd.DataFrame(index=range(1),columns=['place_id','name','cre_id','Longitud','Latitud','regular','premium'])"
   ]
  },
  {
   "cell_type": "code",
   "execution_count": 34,
   "id": "4de70670",
   "metadata": {
    "scrolled": true
   },
   "outputs": [],
   "source": [
    "for i in range(len(mapa)):\n",
    "    precios_locales = obten_gasolineras(mapa.loc[i]['geometry'],gasolineras)\n",
    "    nombre_estado = mapa.loc[i]['ESTADO']\n",
    "    precios_locales_df = pd.DataFrame(precios_locales)\n",
    "    precios_locales_df['Estado'] = mapa.loc[i]['ESTADO']\n",
    "    precios_locales_df = precios_locales_df.drop(['Unnamed: 0'],axis=1)\n",
    "    precios_locales_df['regular'] = precios_locales_df['regular'].replace(0,precios_locales_df['regular'].median())\n",
    "    precios_locales_df['premium'] = precios_locales_df['premium'].replace([0,0.01,1],precios_locales_df['premium'].median())\n",
    "    precios_mexico = pd.concat([precios_mexico,precios_locales_df])"
   ]
  },
  {
   "cell_type": "code",
   "execution_count": 35,
   "id": "21987ea0",
   "metadata": {},
   "outputs": [],
   "source": [
    "precios_mexico = precios_mexico.drop(0)"
   ]
  },
  {
   "cell_type": "code",
   "execution_count": 36,
   "id": "337dc261",
   "metadata": {},
   "outputs": [
    {
     "name": "stdout",
     "output_type": "stream",
     "text": [
      "<class 'pandas.core.frame.DataFrame'>\n",
      "Int64Index: 12476 entries, 5 to 12632\n",
      "Data columns (total 8 columns):\n",
      " #   Column    Non-Null Count  Dtype  \n",
      "---  ------    --------------  -----  \n",
      " 0   place_id  12476 non-null  object \n",
      " 1   name      12476 non-null  object \n",
      " 2   cre_id    12476 non-null  object \n",
      " 3   Longitud  12476 non-null  float64\n",
      " 4   Latitud   12476 non-null  float64\n",
      " 5   regular   12476 non-null  float64\n",
      " 6   premium   12476 non-null  float64\n",
      " 7   Estado    12476 non-null  object \n",
      "dtypes: float64(4), object(4)\n",
      "memory usage: 877.2+ KB\n"
     ]
    }
   ],
   "source": [
    "precios_mexico.info()"
   ]
  },
  {
   "cell_type": "code",
   "execution_count": 41,
   "id": "cfe70aa8",
   "metadata": {},
   "outputs": [
    {
     "data": {
      "text/html": [
       "<div>\n",
       "<style scoped>\n",
       "    .dataframe tbody tr th:only-of-type {\n",
       "        vertical-align: middle;\n",
       "    }\n",
       "\n",
       "    .dataframe tbody tr th {\n",
       "        vertical-align: top;\n",
       "    }\n",
       "\n",
       "    .dataframe thead th {\n",
       "        text-align: right;\n",
       "    }\n",
       "</style>\n",
       "<table border=\"1\" class=\"dataframe\">\n",
       "  <thead>\n",
       "    <tr style=\"text-align: right;\">\n",
       "      <th></th>\n",
       "      <th>place_id</th>\n",
       "      <th>name</th>\n",
       "      <th>cre_id</th>\n",
       "      <th>Longitud</th>\n",
       "      <th>Latitud</th>\n",
       "      <th>regular</th>\n",
       "      <th>premium</th>\n",
       "      <th>Estado</th>\n",
       "    </tr>\n",
       "  </thead>\n",
       "  <tbody>\n",
       "    <tr>\n",
       "      <th>5</th>\n",
       "      <td>2044</td>\n",
       "      <td>ESTACION RAEL, S. DE R.L. DE C.V.</td>\n",
       "      <td>PL/842/EXP/ES/2015</td>\n",
       "      <td>-117.0715</td>\n",
       "      <td>32.51342</td>\n",
       "      <td>19.99</td>\n",
       "      <td>22.79</td>\n",
       "      <td>Baja California</td>\n",
       "    </tr>\n",
       "    <tr>\n",
       "      <th>8</th>\n",
       "      <td>2047</td>\n",
       "      <td>ESTACION RAEL, S. DE R.L. DE C.V.</td>\n",
       "      <td>PL/860/EXP/ES/2015</td>\n",
       "      <td>-116.6079</td>\n",
       "      <td>31.86546</td>\n",
       "      <td>20.49</td>\n",
       "      <td>22.49</td>\n",
       "      <td>Baja California</td>\n",
       "    </tr>\n",
       "    <tr>\n",
       "      <th>14</th>\n",
       "      <td>2053</td>\n",
       "      <td>CIRCULO DOS, S.A. DE C.V.</td>\n",
       "      <td>PL/635/EXP/ES/2015</td>\n",
       "      <td>-117.0271</td>\n",
       "      <td>32.52790</td>\n",
       "      <td>20.39</td>\n",
       "      <td>22.99</td>\n",
       "      <td>Baja California</td>\n",
       "    </tr>\n",
       "    <tr>\n",
       "      <th>23</th>\n",
       "      <td>2062</td>\n",
       "      <td>Becktrop Operadora SA de CV</td>\n",
       "      <td>PL/708/EXP/ES/2015</td>\n",
       "      <td>-117.0249</td>\n",
       "      <td>32.45102</td>\n",
       "      <td>19.39</td>\n",
       "      <td>22.49</td>\n",
       "      <td>Baja California</td>\n",
       "    </tr>\n",
       "    <tr>\n",
       "      <th>25</th>\n",
       "      <td>2064</td>\n",
       "      <td>ESTACION LA VICTORIA, S.A. DE C.V.</td>\n",
       "      <td>PL/636/EXP/ES/2015</td>\n",
       "      <td>-117.0466</td>\n",
       "      <td>32.53171</td>\n",
       "      <td>19.99</td>\n",
       "      <td>22.99</td>\n",
       "      <td>Baja California</td>\n",
       "    </tr>\n",
       "  </tbody>\n",
       "</table>\n",
       "</div>"
      ],
      "text/plain": [
       "   place_id                                name              cre_id  Longitud  \\\n",
       "5      2044   ESTACION RAEL, S. DE R.L. DE C.V.  PL/842/EXP/ES/2015 -117.0715   \n",
       "8      2047   ESTACION RAEL, S. DE R.L. DE C.V.  PL/860/EXP/ES/2015 -116.6079   \n",
       "14     2053           CIRCULO DOS, S.A. DE C.V.  PL/635/EXP/ES/2015 -117.0271   \n",
       "23     2062         Becktrop Operadora SA de CV  PL/708/EXP/ES/2015 -117.0249   \n",
       "25     2064  ESTACION LA VICTORIA, S.A. DE C.V.  PL/636/EXP/ES/2015 -117.0466   \n",
       "\n",
       "     Latitud  regular  premium           Estado  \n",
       "5   32.51342    19.99    22.79  Baja California  \n",
       "8   31.86546    20.49    22.49  Baja California  \n",
       "14  32.52790    20.39    22.99  Baja California  \n",
       "23  32.45102    19.39    22.49  Baja California  \n",
       "25  32.53171    19.99    22.99  Baja California  "
      ]
     },
     "execution_count": 41,
     "metadata": {},
     "output_type": "execute_result"
    }
   ],
   "source": [
    "precios_mexico.head()"
   ]
  },
  {
   "cell_type": "code",
   "execution_count": 40,
   "id": "67a497fb",
   "metadata": {},
   "outputs": [],
   "source": [
    "precios_mexico.to_excel('precios_gasolinas_mx.xlsx')"
   ]
  }
 ],
 "metadata": {
  "kernelspec": {
   "display_name": "Python 3",
   "language": "python",
   "name": "python3"
  },
  "language_info": {
   "codemirror_mode": {
    "name": "ipython",
    "version": 3
   },
   "file_extension": ".py",
   "mimetype": "text/x-python",
   "name": "python",
   "nbconvert_exporter": "python",
   "pygments_lexer": "ipython3",
   "version": "3.9.5"
  }
 },
 "nbformat": 4,
 "nbformat_minor": 5
}
