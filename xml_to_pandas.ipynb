{
 "cells": [
  {
   "cell_type": "code",
   "execution_count": 1,
   "id": "1c648fdf",
   "metadata": {},
   "outputs": [],
   "source": [
    "#This notebook reads the xml with the gas prices and gas stations locations provided by the CRE \n",
    "#and converts them to an excel file."
   ]
  },
  {
   "cell_type": "code",
   "execution_count": 2,
   "id": "1119b2dd",
   "metadata": {},
   "outputs": [],
   "source": [
    "import pandas as pd\n",
    "import re\n",
    "from bs4 import BeautifulSoup\n",
    "import os"
   ]
  },
  {
   "cell_type": "code",
   "execution_count": 3,
   "id": "40c16781",
   "metadata": {},
   "outputs": [],
   "source": [
    "#Open places xml file and assing info to a Beautifulsoup object\n",
    "xml = open('places.xml','r',encoding='utf-8')\n",
    "soup = BeautifulSoup(xml, 'lxml')"
   ]
  },
  {
   "cell_type": "code",
   "execution_count": 9,
   "id": "3a50d569",
   "metadata": {},
   "outputs": [],
   "source": [
    "#Read xml in to a new dataframe\n",
    "places=pd.read_xml('places.xml')"
   ]
  },
  {
   "cell_type": "code",
   "execution_count": 8,
   "id": "103338da",
   "metadata": {},
   "outputs": [
    {
     "data": {
      "text/html": [
       "<div>\n",
       "<style scoped>\n",
       "    .dataframe tbody tr th:only-of-type {\n",
       "        vertical-align: middle;\n",
       "    }\n",
       "\n",
       "    .dataframe tbody tr th {\n",
       "        vertical-align: top;\n",
       "    }\n",
       "\n",
       "    .dataframe thead th {\n",
       "        text-align: right;\n",
       "    }\n",
       "</style>\n",
       "<table border=\"1\" class=\"dataframe\">\n",
       "  <thead>\n",
       "    <tr style=\"text-align: right;\">\n",
       "      <th></th>\n",
       "      <th>place_id</th>\n",
       "      <th>name</th>\n",
       "      <th>cre_id</th>\n",
       "      <th>location</th>\n",
       "    </tr>\n",
       "  </thead>\n",
       "  <tbody>\n",
       "    <tr>\n",
       "      <th>0</th>\n",
       "      <td>2039</td>\n",
       "      <td>ESTACION DE SERVICIO CALAFIA, S.A. DE C.V.</td>\n",
       "      <td>PL/658/EXP/ES/2015</td>\n",
       "      <td>NaN</td>\n",
       "    </tr>\n",
       "    <tr>\n",
       "      <th>1</th>\n",
       "      <td>2040</td>\n",
       "      <td>LAS MEJORES ESTACIONES, S.A DE C.V</td>\n",
       "      <td>PL/902/EXP/ES/2015</td>\n",
       "      <td>NaN</td>\n",
       "    </tr>\n",
       "    <tr>\n",
       "      <th>2</th>\n",
       "      <td>2041</td>\n",
       "      <td>DIAZ GAS, S.A. DE C.V.</td>\n",
       "      <td>PL/760/EXP/ES/2015</td>\n",
       "      <td>NaN</td>\n",
       "    </tr>\n",
       "    <tr>\n",
       "      <th>3</th>\n",
       "      <td>2042</td>\n",
       "      <td>COMBU-EXPRESS, S.A. DE C.V.</td>\n",
       "      <td>PL/825/EXP/ES/2015</td>\n",
       "      <td>NaN</td>\n",
       "    </tr>\n",
       "    <tr>\n",
       "      <th>4</th>\n",
       "      <td>2043</td>\n",
       "      <td>PETROMAX, S.A. DE C.V.</td>\n",
       "      <td>PL/585/EXP/ES/2015</td>\n",
       "      <td>NaN</td>\n",
       "    </tr>\n",
       "  </tbody>\n",
       "</table>\n",
       "</div>"
      ],
      "text/plain": [
       "   place_id                                        name              cre_id  \\\n",
       "0      2039  ESTACION DE SERVICIO CALAFIA, S.A. DE C.V.  PL/658/EXP/ES/2015   \n",
       "1      2040          LAS MEJORES ESTACIONES, S.A DE C.V  PL/902/EXP/ES/2015   \n",
       "2      2041                      DIAZ GAS, S.A. DE C.V.  PL/760/EXP/ES/2015   \n",
       "3      2042                 COMBU-EXPRESS, S.A. DE C.V.  PL/825/EXP/ES/2015   \n",
       "4      2043                      PETROMAX, S.A. DE C.V.  PL/585/EXP/ES/2015   \n",
       "\n",
       "   location  \n",
       "0       NaN  \n",
       "1       NaN  \n",
       "2       NaN  \n",
       "3       NaN  \n",
       "4       NaN  "
      ]
     },
     "execution_count": 8,
     "metadata": {},
     "output_type": "execute_result"
    }
   ],
   "source": [
    "places.head()"
   ]
  },
  {
   "cell_type": "code",
   "execution_count": 10,
   "id": "1a2de4be",
   "metadata": {},
   "outputs": [],
   "source": [
    "#Select location info and save  info in a new data frame.\n",
    "location_x = soup.select(\"x\")\n",
    "places['Longitud'] = pd.DataFrame(location_x)\n",
    "location_y = soup.select(\"y\")\n",
    "places['Latitud'] = pd.DataFrame(location_y)\n",
    "places = places.drop('location', axis=1)"
   ]
  },
  {
   "cell_type": "code",
   "execution_count": 11,
   "id": "cd7f8b4d",
   "metadata": {},
   "outputs": [],
   "source": [
    "#Change place_id to str for later use\n",
    "places['place_id'] = places['place_id'].astype(str)"
   ]
  },
  {
   "cell_type": "code",
   "execution_count": 12,
   "id": "2a6ecd12",
   "metadata": {},
   "outputs": [
    {
     "data": {
      "text/html": [
       "<div>\n",
       "<style scoped>\n",
       "    .dataframe tbody tr th:only-of-type {\n",
       "        vertical-align: middle;\n",
       "    }\n",
       "\n",
       "    .dataframe tbody tr th {\n",
       "        vertical-align: top;\n",
       "    }\n",
       "\n",
       "    .dataframe thead th {\n",
       "        text-align: right;\n",
       "    }\n",
       "</style>\n",
       "<table border=\"1\" class=\"dataframe\">\n",
       "  <thead>\n",
       "    <tr style=\"text-align: right;\">\n",
       "      <th></th>\n",
       "      <th>place_id</th>\n",
       "      <th>name</th>\n",
       "      <th>cre_id</th>\n",
       "      <th>Longitud</th>\n",
       "      <th>Latitud</th>\n",
       "    </tr>\n",
       "  </thead>\n",
       "  <tbody>\n",
       "    <tr>\n",
       "      <th>0</th>\n",
       "      <td>2039</td>\n",
       "      <td>ESTACION DE SERVICIO CALAFIA, S.A. DE C.V.</td>\n",
       "      <td>PL/658/EXP/ES/2015</td>\n",
       "      <td>-116.9214</td>\n",
       "      <td>32.47641</td>\n",
       "    </tr>\n",
       "    <tr>\n",
       "      <th>1</th>\n",
       "      <td>2040</td>\n",
       "      <td>LAS MEJORES ESTACIONES, S.A DE C.V</td>\n",
       "      <td>PL/902/EXP/ES/2015</td>\n",
       "      <td>-99.74484</td>\n",
       "      <td>20.3037</td>\n",
       "    </tr>\n",
       "    <tr>\n",
       "      <th>2</th>\n",
       "      <td>2041</td>\n",
       "      <td>DIAZ GAS, S.A. DE C.V.</td>\n",
       "      <td>PL/760/EXP/ES/2015</td>\n",
       "      <td>-106.4514</td>\n",
       "      <td>31.71947</td>\n",
       "    </tr>\n",
       "    <tr>\n",
       "      <th>3</th>\n",
       "      <td>2042</td>\n",
       "      <td>COMBU-EXPRESS, S.A. DE C.V.</td>\n",
       "      <td>PL/825/EXP/ES/2015</td>\n",
       "      <td>-103.3042</td>\n",
       "      <td>20.71413</td>\n",
       "    </tr>\n",
       "    <tr>\n",
       "      <th>4</th>\n",
       "      <td>2043</td>\n",
       "      <td>PETROMAX, S.A. DE C.V.</td>\n",
       "      <td>PL/585/EXP/ES/2015</td>\n",
       "      <td>-98.29977</td>\n",
       "      <td>26.03787</td>\n",
       "    </tr>\n",
       "  </tbody>\n",
       "</table>\n",
       "</div>"
      ],
      "text/plain": [
       "  place_id                                        name              cre_id  \\\n",
       "0     2039  ESTACION DE SERVICIO CALAFIA, S.A. DE C.V.  PL/658/EXP/ES/2015   \n",
       "1     2040          LAS MEJORES ESTACIONES, S.A DE C.V  PL/902/EXP/ES/2015   \n",
       "2     2041                      DIAZ GAS, S.A. DE C.V.  PL/760/EXP/ES/2015   \n",
       "3     2042                 COMBU-EXPRESS, S.A. DE C.V.  PL/825/EXP/ES/2015   \n",
       "4     2043                      PETROMAX, S.A. DE C.V.  PL/585/EXP/ES/2015   \n",
       "\n",
       "    Longitud   Latitud  \n",
       "0  -116.9214  32.47641  \n",
       "1  -99.74484   20.3037  \n",
       "2  -106.4514  31.71947  \n",
       "3  -103.3042  20.71413  \n",
       "4  -98.29977  26.03787  "
      ]
     },
     "execution_count": 12,
     "metadata": {},
     "output_type": "execute_result"
    }
   ],
   "source": [
    "places.head()"
   ]
  },
  {
   "cell_type": "code",
   "execution_count": 13,
   "id": "6e81c8ca",
   "metadata": {},
   "outputs": [],
   "source": [
    "#Open prices xml file and assing info to a Beautifulsoup object\n",
    "xml = open('prices.xml', 'r', encoding='utf-8')\n",
    "soup = BeautifulSoup(xml, 'lxml')"
   ]
  },
  {
   "cell_type": "code",
   "execution_count": 15,
   "id": "cf8477b7",
   "metadata": {},
   "outputs": [],
   "source": [
    "#Select place id\n",
    "prices_all = soup.select('place')"
   ]
  },
  {
   "cell_type": "code",
   "execution_count": 16,
   "id": "89293ce2",
   "metadata": {},
   "outputs": [],
   "source": [
    "# Create two colums for each type of fuel. If the selected gas stations odes not sell that kind of fuel then use price 0.\n",
    "list_prices = []\n",
    "for tag in prices_all:\n",
    "    if tag.find('gas_price', type='regular') == None:\n",
    "        regular = 0\n",
    "    else:\n",
    "        regular =  tag.find('gas_price', type='regular').text\n",
    "        \n",
    "    if tag.find('gas_price', type='premium') == None:\n",
    "        premium = 0\n",
    "    else:\n",
    "        premium =  tag.find('gas_price', type='premium').text\n",
    "        \n",
    "    list_prices.append({'place_id': tag.get('place_id'), 'regular': regular, 'premium': premium})\n",
    "    "
   ]
  },
  {
   "cell_type": "code",
   "execution_count": 17,
   "id": "5290f456",
   "metadata": {},
   "outputs": [],
   "source": [
    "# Save prices information in a new database, convert prices to float and agregate so we have one row per each gas station. Reset index column.\n",
    "prices_complete = pd.DataFrame(list_prices)\n",
    "prices_complete['regular'] = prices_complete['regular'].astype(float)\n",
    "prices_complete['premium'] = prices_complete['premium'].astype(float)\n",
    "prices_clean = prices_complete.groupby('place_id').agg({'regular': 'max', 'premium': 'max'})\n",
    "prices_clean = prices_clean.reset_index()"
   ]
  },
  {
   "cell_type": "code",
   "execution_count": 18,
   "id": "33c9e722",
   "metadata": {
    "scrolled": true
   },
   "outputs": [
    {
     "data": {
      "text/html": [
       "<div>\n",
       "<style scoped>\n",
       "    .dataframe tbody tr th:only-of-type {\n",
       "        vertical-align: middle;\n",
       "    }\n",
       "\n",
       "    .dataframe tbody tr th {\n",
       "        vertical-align: top;\n",
       "    }\n",
       "\n",
       "    .dataframe thead th {\n",
       "        text-align: right;\n",
       "    }\n",
       "</style>\n",
       "<table border=\"1\" class=\"dataframe\">\n",
       "  <thead>\n",
       "    <tr style=\"text-align: right;\">\n",
       "      <th></th>\n",
       "      <th>place_id</th>\n",
       "      <th>regular</th>\n",
       "      <th>premium</th>\n",
       "    </tr>\n",
       "  </thead>\n",
       "  <tbody>\n",
       "    <tr>\n",
       "      <th>0</th>\n",
       "      <td>10000</td>\n",
       "      <td>21.48</td>\n",
       "      <td>23.48</td>\n",
       "    </tr>\n",
       "    <tr>\n",
       "      <th>1</th>\n",
       "      <td>10001</td>\n",
       "      <td>20.26</td>\n",
       "      <td>22.99</td>\n",
       "    </tr>\n",
       "    <tr>\n",
       "      <th>2</th>\n",
       "      <td>10002</td>\n",
       "      <td>15.87</td>\n",
       "      <td>17.60</td>\n",
       "    </tr>\n",
       "    <tr>\n",
       "      <th>3</th>\n",
       "      <td>10003</td>\n",
       "      <td>14.88</td>\n",
       "      <td>0.00</td>\n",
       "    </tr>\n",
       "    <tr>\n",
       "      <th>4</th>\n",
       "      <td>10004</td>\n",
       "      <td>19.99</td>\n",
       "      <td>21.99</td>\n",
       "    </tr>\n",
       "  </tbody>\n",
       "</table>\n",
       "</div>"
      ],
      "text/plain": [
       "  place_id  regular  premium\n",
       "0    10000    21.48    23.48\n",
       "1    10001    20.26    22.99\n",
       "2    10002    15.87    17.60\n",
       "3    10003    14.88     0.00\n",
       "4    10004    19.99    21.99"
      ]
     },
     "execution_count": 18,
     "metadata": {},
     "output_type": "execute_result"
    }
   ],
   "source": [
    "prices_clean.head()"
   ]
  },
  {
   "cell_type": "code",
   "execution_count": 19,
   "id": "730c3db3",
   "metadata": {
    "scrolled": true
   },
   "outputs": [],
   "source": [
    "# Merge places and prices dataframes to create a single dataframe with all the information for each gas station.\n",
    "gas_stations = pd.merge(places, prices_clean, on='place_id')"
   ]
  },
  {
   "cell_type": "code",
   "execution_count": 20,
   "id": "b1265905",
   "metadata": {
    "scrolled": true
   },
   "outputs": [
    {
     "data": {
      "text/html": [
       "<div>\n",
       "<style scoped>\n",
       "    .dataframe tbody tr th:only-of-type {\n",
       "        vertical-align: middle;\n",
       "    }\n",
       "\n",
       "    .dataframe tbody tr th {\n",
       "        vertical-align: top;\n",
       "    }\n",
       "\n",
       "    .dataframe thead th {\n",
       "        text-align: right;\n",
       "    }\n",
       "</style>\n",
       "<table border=\"1\" class=\"dataframe\">\n",
       "  <thead>\n",
       "    <tr style=\"text-align: right;\">\n",
       "      <th></th>\n",
       "      <th>place_id</th>\n",
       "      <th>name</th>\n",
       "      <th>cre_id</th>\n",
       "      <th>Longitud</th>\n",
       "      <th>Latitud</th>\n",
       "      <th>regular</th>\n",
       "      <th>premium</th>\n",
       "    </tr>\n",
       "  </thead>\n",
       "  <tbody>\n",
       "    <tr>\n",
       "      <th>0</th>\n",
       "      <td>2039</td>\n",
       "      <td>ESTACION DE SERVICIO CALAFIA, S.A. DE C.V.</td>\n",
       "      <td>PL/658/EXP/ES/2015</td>\n",
       "      <td>-116.9214</td>\n",
       "      <td>32.47641</td>\n",
       "      <td>19.99</td>\n",
       "      <td>22.99</td>\n",
       "    </tr>\n",
       "    <tr>\n",
       "      <th>1</th>\n",
       "      <td>2040</td>\n",
       "      <td>LAS MEJORES ESTACIONES, S.A DE C.V</td>\n",
       "      <td>PL/902/EXP/ES/2015</td>\n",
       "      <td>-99.74484</td>\n",
       "      <td>20.3037</td>\n",
       "      <td>20.53</td>\n",
       "      <td>22.05</td>\n",
       "    </tr>\n",
       "    <tr>\n",
       "      <th>2</th>\n",
       "      <td>2041</td>\n",
       "      <td>DIAZ GAS, S.A. DE C.V.</td>\n",
       "      <td>PL/760/EXP/ES/2015</td>\n",
       "      <td>-106.4514</td>\n",
       "      <td>31.71947</td>\n",
       "      <td>15.19</td>\n",
       "      <td>17.86</td>\n",
       "    </tr>\n",
       "    <tr>\n",
       "      <th>3</th>\n",
       "      <td>2042</td>\n",
       "      <td>COMBU-EXPRESS, S.A. DE C.V.</td>\n",
       "      <td>PL/825/EXP/ES/2015</td>\n",
       "      <td>-103.3042</td>\n",
       "      <td>20.71413</td>\n",
       "      <td>20.39</td>\n",
       "      <td>22.99</td>\n",
       "    </tr>\n",
       "    <tr>\n",
       "      <th>4</th>\n",
       "      <td>2043</td>\n",
       "      <td>PETROMAX, S.A. DE C.V.</td>\n",
       "      <td>PL/585/EXP/ES/2015</td>\n",
       "      <td>-98.29977</td>\n",
       "      <td>26.03787</td>\n",
       "      <td>16.89</td>\n",
       "      <td>19.29</td>\n",
       "    </tr>\n",
       "  </tbody>\n",
       "</table>\n",
       "</div>"
      ],
      "text/plain": [
       "  place_id                                        name              cre_id  \\\n",
       "0     2039  ESTACION DE SERVICIO CALAFIA, S.A. DE C.V.  PL/658/EXP/ES/2015   \n",
       "1     2040          LAS MEJORES ESTACIONES, S.A DE C.V  PL/902/EXP/ES/2015   \n",
       "2     2041                      DIAZ GAS, S.A. DE C.V.  PL/760/EXP/ES/2015   \n",
       "3     2042                 COMBU-EXPRESS, S.A. DE C.V.  PL/825/EXP/ES/2015   \n",
       "4     2043                      PETROMAX, S.A. DE C.V.  PL/585/EXP/ES/2015   \n",
       "\n",
       "    Longitud   Latitud  regular  premium  \n",
       "0  -116.9214  32.47641    19.99    22.99  \n",
       "1  -99.74484   20.3037    20.53    22.05  \n",
       "2  -106.4514  31.71947    15.19    17.86  \n",
       "3  -103.3042  20.71413    20.39    22.99  \n",
       "4  -98.29977  26.03787    16.89    19.29  "
      ]
     },
     "execution_count": 20,
     "metadata": {},
     "output_type": "execute_result"
    }
   ],
   "source": [
    "gas_stations.head()"
   ]
  },
  {
   "cell_type": "code",
   "execution_count": 22,
   "id": "df9e351e",
   "metadata": {},
   "outputs": [],
   "source": [
    "# Export dataframe to excel\n",
    "gas_stations.to_excel('prices_places_gas_stations.xlsx')"
   ]
  }
 ],
 "metadata": {
  "kernelspec": {
   "display_name": "Python 3",
   "language": "python",
   "name": "python3"
  },
  "language_info": {
   "codemirror_mode": {
    "name": "ipython",
    "version": 3
   },
   "file_extension": ".py",
   "mimetype": "text/x-python",
   "name": "python",
   "nbconvert_exporter": "python",
   "pygments_lexer": "ipython3",
   "version": "3.9.5"
  }
 },
 "nbformat": 4,
 "nbformat_minor": 5
}
