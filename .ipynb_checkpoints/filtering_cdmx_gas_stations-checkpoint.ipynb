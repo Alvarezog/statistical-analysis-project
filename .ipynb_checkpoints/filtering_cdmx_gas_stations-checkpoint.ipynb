{
 "cells": [
  {
   "cell_type": "code",
   "execution_count": 1,
   "id": "a00d4129",
   "metadata": {},
   "outputs": [],
   "source": [
    "#This notebook filters all the gas stations located inside Mexico City using an \n",
    "# shp. file and gas prices provided by the CRE."
   ]
  },
  {
   "cell_type": "code",
   "execution_count": 2,
   "id": "30934d18",
   "metadata": {},
   "outputs": [],
   "source": [
    "import pandas as pd\n",
    "import numpy as np\n",
    "import geopandas as gpd\n",
    "import matplotlib.pyplot as plt\n",
    "import earthpy as et\n",
    "from shapely.geometry import Point, Polygon"
   ]
  },
  {
   "cell_type": "code",
   "execution_count": 3,
   "id": "23f4bd66",
   "metadata": {},
   "outputs": [],
   "source": [
    "#Function that receives the complete list of gas stations and a polygon representing a physical area \n",
    "#and returns the list of gas stations inside that area.\n",
    "def extract_stations(polygon,stations):\n",
    "    stations_inside_polygon = []\n",
    "    for i in range(len(stations)):\n",
    "        point = Point(stations.loc[i,\"Longitud\"],stations.loc[i,\"Latitud\"])\n",
    "        if point.within(polygon) == True:\n",
    "            stations_inside_polygon.append(stations.iloc[i])\n",
    "    \n",
    "    return stations_inside_polygon"
   ]
  },
  {
   "cell_type": "code",
   "execution_count": 4,
   "id": "c8ec6280",
   "metadata": {},
   "outputs": [],
   "source": [
    "#Import the data base with the polygons and the database with the gas prices.\n",
    "mapa = gpd.read_file('México_Estados.shp')\n",
    "stations = pd.read_excel('prices_places_gas_stations.xlsx')"
   ]
  },
  {
   "cell_type": "code",
   "execution_count": 5,
   "id": "472679ab",
   "metadata": {
    "scrolled": true
   },
   "outputs": [
    {
     "data": {
      "text/html": [
       "<div>\n",
       "<style scoped>\n",
       "    .dataframe tbody tr th:only-of-type {\n",
       "        vertical-align: middle;\n",
       "    }\n",
       "\n",
       "    .dataframe tbody tr th {\n",
       "        vertical-align: top;\n",
       "    }\n",
       "\n",
       "    .dataframe thead th {\n",
       "        text-align: right;\n",
       "    }\n",
       "</style>\n",
       "<table border=\"1\" class=\"dataframe\">\n",
       "  <thead>\n",
       "    <tr style=\"text-align: right;\">\n",
       "      <th></th>\n",
       "      <th>CODIGO</th>\n",
       "      <th>ESTADO</th>\n",
       "      <th>geometry</th>\n",
       "    </tr>\n",
       "  </thead>\n",
       "  <tbody>\n",
       "    <tr>\n",
       "      <th>0</th>\n",
       "      <td>MX02</td>\n",
       "      <td>Baja California</td>\n",
       "      <td>MULTIPOLYGON (((-113.13972 29.01778, -113.2405...</td>\n",
       "    </tr>\n",
       "    <tr>\n",
       "      <th>1</th>\n",
       "      <td>MX03</td>\n",
       "      <td>Baja California Sur</td>\n",
       "      <td>MULTIPOLYGON (((-111.20612 25.80278, -111.2302...</td>\n",
       "    </tr>\n",
       "    <tr>\n",
       "      <th>2</th>\n",
       "      <td>MX18</td>\n",
       "      <td>Nayarit</td>\n",
       "      <td>MULTIPOLYGON (((-106.62108 21.56531, -106.6475...</td>\n",
       "    </tr>\n",
       "    <tr>\n",
       "      <th>3</th>\n",
       "      <td>MX14</td>\n",
       "      <td>Jalisco</td>\n",
       "      <td>POLYGON ((-101.52490 21.85664, -101.58830 21.7...</td>\n",
       "    </tr>\n",
       "    <tr>\n",
       "      <th>4</th>\n",
       "      <td>MX01</td>\n",
       "      <td>Aguascalientes</td>\n",
       "      <td>POLYGON ((-101.84620 22.01176, -101.96530 21.8...</td>\n",
       "    </tr>\n",
       "  </tbody>\n",
       "</table>\n",
       "</div>"
      ],
      "text/plain": [
       "  CODIGO               ESTADO  \\\n",
       "0   MX02      Baja California   \n",
       "1   MX03  Baja California Sur   \n",
       "2   MX18              Nayarit   \n",
       "3   MX14              Jalisco   \n",
       "4   MX01       Aguascalientes   \n",
       "\n",
       "                                            geometry  \n",
       "0  MULTIPOLYGON (((-113.13972 29.01778, -113.2405...  \n",
       "1  MULTIPOLYGON (((-111.20612 25.80278, -111.2302...  \n",
       "2  MULTIPOLYGON (((-106.62108 21.56531, -106.6475...  \n",
       "3  POLYGON ((-101.52490 21.85664, -101.58830 21.7...  \n",
       "4  POLYGON ((-101.84620 22.01176, -101.96530 21.8...  "
      ]
     },
     "execution_count": 5,
     "metadata": {},
     "output_type": "execute_result"
    }
   ],
   "source": [
    "mapa.head()"
   ]
  },
  {
   "cell_type": "code",
   "execution_count": 6,
   "id": "e788f9ac",
   "metadata": {},
   "outputs": [],
   "source": [
    "#create a template for the prices dataframe, the results obtained from the filtering will be concatenated to this dataframe.\n",
    "prices_mexico = pd.DataFrame(index=range(1),columns=['place_id','name','cre_id','Longitud','Latitud','regular','premium'])"
   ]
  },
  {
   "cell_type": "code",
   "execution_count": 7,
   "id": "4de70670",
   "metadata": {
    "scrolled": true
   },
   "outputs": [],
   "source": [
    "# Uses extract stations to obtain the gas prices of the gas stations located in each state and assigns the result to a df\n",
    "for i in range(len(mapa)):\n",
    "    local_prices = extract_stations(mapa.loc[i]['geometry'],stations)\n",
    "    nombre_estado = mapa.loc[i]['ESTADO']\n",
    "    local_prices_df = pd.DataFrame(local_prices)\n",
    "    local_prices_df['State'] = mapa.loc[i]['ESTADO']\n",
    "    local_prices_df = local_prices_df.drop(['Unnamed: 0'],axis=1)\n",
    "    local_prices_df['regular'] = local_prices_df['regular'].replace(0,local_prices_df['regular'].median())\n",
    "    local_prices_df['premium'] = local_prices_df['premium'].replace([0,0.01,1],local_prices_df['premium'].median())\n",
    "    prices_mexico = pd.concat([prices_mexico,local_prices_df])\n",
    "prices_mexico = prices_mexico.drop(0)"
   ]
  },
  {
   "cell_type": "code",
   "execution_count": 8,
   "id": "337dc261",
   "metadata": {},
   "outputs": [
    {
     "name": "stdout",
     "output_type": "stream",
     "text": [
      "<class 'pandas.core.frame.DataFrame'>\n",
      "Int64Index: 12476 entries, 5 to 12632\n",
      "Data columns (total 8 columns):\n",
      " #   Column    Non-Null Count  Dtype  \n",
      "---  ------    --------------  -----  \n",
      " 0   place_id  12476 non-null  object \n",
      " 1   name      12476 non-null  object \n",
      " 2   cre_id    12476 non-null  object \n",
      " 3   Longitud  12476 non-null  float64\n",
      " 4   Latitud   12476 non-null  float64\n",
      " 5   regular   12476 non-null  float64\n",
      " 6   premium   12476 non-null  float64\n",
      " 7   State     12476 non-null  object \n",
      "dtypes: float64(4), object(4)\n",
      "memory usage: 877.2+ KB\n"
     ]
    }
   ],
   "source": [
    "prices_mexico.info()"
   ]
  },
  {
   "cell_type": "code",
   "execution_count": 9,
   "id": "cfe70aa8",
   "metadata": {},
   "outputs": [
    {
     "data": {
      "text/html": [
       "<div>\n",
       "<style scoped>\n",
       "    .dataframe tbody tr th:only-of-type {\n",
       "        vertical-align: middle;\n",
       "    }\n",
       "\n",
       "    .dataframe tbody tr th {\n",
       "        vertical-align: top;\n",
       "    }\n",
       "\n",
       "    .dataframe thead th {\n",
       "        text-align: right;\n",
       "    }\n",
       "</style>\n",
       "<table border=\"1\" class=\"dataframe\">\n",
       "  <thead>\n",
       "    <tr style=\"text-align: right;\">\n",
       "      <th></th>\n",
       "      <th>place_id</th>\n",
       "      <th>name</th>\n",
       "      <th>cre_id</th>\n",
       "      <th>Longitud</th>\n",
       "      <th>Latitud</th>\n",
       "      <th>regular</th>\n",
       "      <th>premium</th>\n",
       "      <th>State</th>\n",
       "    </tr>\n",
       "  </thead>\n",
       "  <tbody>\n",
       "    <tr>\n",
       "      <th>5</th>\n",
       "      <td>2044</td>\n",
       "      <td>ESTACION RAEL, S. DE R.L. DE C.V.</td>\n",
       "      <td>PL/842/EXP/ES/2015</td>\n",
       "      <td>-117.0715</td>\n",
       "      <td>32.51342</td>\n",
       "      <td>19.99</td>\n",
       "      <td>22.79</td>\n",
       "      <td>Baja California</td>\n",
       "    </tr>\n",
       "    <tr>\n",
       "      <th>8</th>\n",
       "      <td>2047</td>\n",
       "      <td>ESTACION RAEL, S. DE R.L. DE C.V.</td>\n",
       "      <td>PL/860/EXP/ES/2015</td>\n",
       "      <td>-116.6079</td>\n",
       "      <td>31.86546</td>\n",
       "      <td>20.49</td>\n",
       "      <td>22.49</td>\n",
       "      <td>Baja California</td>\n",
       "    </tr>\n",
       "    <tr>\n",
       "      <th>14</th>\n",
       "      <td>2053</td>\n",
       "      <td>CIRCULO DOS, S.A. DE C.V.</td>\n",
       "      <td>PL/635/EXP/ES/2015</td>\n",
       "      <td>-117.0271</td>\n",
       "      <td>32.52790</td>\n",
       "      <td>20.39</td>\n",
       "      <td>22.99</td>\n",
       "      <td>Baja California</td>\n",
       "    </tr>\n",
       "    <tr>\n",
       "      <th>23</th>\n",
       "      <td>2062</td>\n",
       "      <td>Becktrop Operadora SA de CV</td>\n",
       "      <td>PL/708/EXP/ES/2015</td>\n",
       "      <td>-117.0249</td>\n",
       "      <td>32.45102</td>\n",
       "      <td>19.39</td>\n",
       "      <td>22.49</td>\n",
       "      <td>Baja California</td>\n",
       "    </tr>\n",
       "    <tr>\n",
       "      <th>25</th>\n",
       "      <td>2064</td>\n",
       "      <td>ESTACION LA VICTORIA, S.A. DE C.V.</td>\n",
       "      <td>PL/636/EXP/ES/2015</td>\n",
       "      <td>-117.0466</td>\n",
       "      <td>32.53171</td>\n",
       "      <td>19.99</td>\n",
       "      <td>22.99</td>\n",
       "      <td>Baja California</td>\n",
       "    </tr>\n",
       "  </tbody>\n",
       "</table>\n",
       "</div>"
      ],
      "text/plain": [
       "   place_id                                name              cre_id  Longitud  \\\n",
       "5      2044   ESTACION RAEL, S. DE R.L. DE C.V.  PL/842/EXP/ES/2015 -117.0715   \n",
       "8      2047   ESTACION RAEL, S. DE R.L. DE C.V.  PL/860/EXP/ES/2015 -116.6079   \n",
       "14     2053           CIRCULO DOS, S.A. DE C.V.  PL/635/EXP/ES/2015 -117.0271   \n",
       "23     2062         Becktrop Operadora SA de CV  PL/708/EXP/ES/2015 -117.0249   \n",
       "25     2064  ESTACION LA VICTORIA, S.A. DE C.V.  PL/636/EXP/ES/2015 -117.0466   \n",
       "\n",
       "     Latitud  regular  premium            State  \n",
       "5   32.51342    19.99    22.79  Baja California  \n",
       "8   31.86546    20.49    22.49  Baja California  \n",
       "14  32.52790    20.39    22.99  Baja California  \n",
       "23  32.45102    19.39    22.49  Baja California  \n",
       "25  32.53171    19.99    22.99  Baja California  "
      ]
     },
     "execution_count": 9,
     "metadata": {},
     "output_type": "execute_result"
    }
   ],
   "source": [
    "prices_mexico.head()"
   ]
  },
  {
   "cell_type": "code",
   "execution_count": 13,
   "id": "67a497fb",
   "metadata": {},
   "outputs": [],
   "source": [
    "#Filter gas stations from mexico city and export file to excel\n",
    "prices_cdmx = prices_mexico[prices_mexico['State']=='Distrito Federal']\n",
    "prices_cdmx.to_excel('prices_cdmx.xlsx')"
   ]
  }
 ],
 "metadata": {
  "kernelspec": {
   "display_name": "Python 3",
   "language": "python",
   "name": "python3"
  },
  "language_info": {
   "codemirror_mode": {
    "name": "ipython",
    "version": 3
   },
   "file_extension": ".py",
   "mimetype": "text/x-python",
   "name": "python",
   "nbconvert_exporter": "python",
   "pygments_lexer": "ipython3",
   "version": "3.9.5"
  }
 },
 "nbformat": 4,
 "nbformat_minor": 5
}
